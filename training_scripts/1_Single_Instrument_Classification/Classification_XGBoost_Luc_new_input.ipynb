{
 "cells": [
  {
   "cell_type": "markdown",
   "metadata": {},
   "source": [
    "## XGBoost single instrument - New input\n",
    "\n",
    "This code uses the new input shape, using the librosa fourier and inverse fourier transform to generate the spectrograms from waveform"
   ]
  },
  {
   "cell_type": "code",
   "execution_count": 2,
   "metadata": {},
   "outputs": [],
   "source": [
    "# Import libraries\n",
    "import numpy as np\n",
    "import pandas as pd\n",
    "import matplotlib.pyplot as plt\n",
    "import torch\n",
    "import torch.nn as nn\n",
    "import torch.optim as optim\n",
    "\n",
    "# Import external functions from the functions folder\n",
    "import sys\n",
    "sys.path.append('../../functions')\n",
    "import functions as f"
   ]
  },
  {
   "cell_type": "code",
   "execution_count": 3,
   "metadata": {},
   "outputs": [],
   "source": [
    "# Set local path to the folder containing the .wav audio files\n",
    "path = 'C:/Users/lucvo/VScode/Machine_learning/Audio_data/nsynth-valid.jsonwav/nsynth-valid/audio/'"
   ]
  },
  {
   "cell_type": "code",
   "execution_count": 4,
   "metadata": {},
   "outputs": [
    {
     "name": "stdout",
     "output_type": "stream",
     "text": [
      "WARNING: not enough files in classes:  ['flute']\n",
      "The dataset might be unbalanced\n"
     ]
    }
   ],
   "source": [
    "# Create a training set of spectrograms and labels\n",
    "X, y, label_dict = f.create_single_inst_classification_set_new_input(N_samples=5000, classes=['keyboard','bass','flute', 'guitar'], path=path)\n",
    "\n",
    "# Split the data into training, validation and test sets\n",
    "X_train, X_val, X_test, y_train, y_val, y_test = f.split_data(X, y, val_frac=0.1, test_frac=0.1)"
   ]
  },
  {
   "cell_type": "code",
   "execution_count": 5,
   "metadata": {},
   "outputs": [
    {
     "name": "stdout",
     "output_type": "stream",
     "text": [
      "(4000, 129150)\n",
      "(4000,)\n",
      "{0: 'keyboard', 1: 'bass', 2: 'flute', 3: 'guitar'}\n"
     ]
    }
   ],
   "source": [
    "print(X_train.shape)\n",
    "print(y_train.shape)\n",
    "print(label_dict)"
   ]
  },
  {
   "cell_type": "code",
   "execution_count": 6,
   "metadata": {},
   "outputs": [],
   "source": [
    "import xgboost as xgb\n",
    "from sklearn.metrics import confusion_matrix"
   ]
  },
  {
   "cell_type": "code",
   "execution_count": 7,
   "metadata": {},
   "outputs": [],
   "source": [
    "# Use only the first 2000 samples for training\n",
    "X_train = X_train[:1000]\n",
    "y_train = y_train[:1000]"
   ]
  },
  {
   "cell_type": "code",
   "execution_count": 8,
   "metadata": {},
   "outputs": [
    {
     "name": "stdout",
     "output_type": "stream",
     "text": [
      "(1000, 129150)\n",
      "(1000,)\n",
      "{0: 'keyboard', 1: 'bass', 2: 'flute', 3: 'guitar'}\n"
     ]
    }
   ],
   "source": [
    "print(X_train.shape)\n",
    "print(y_train.shape)\n",
    "print(label_dict)"
   ]
  },
  {
   "cell_type": "code",
   "execution_count": 9,
   "metadata": {},
   "outputs": [
    {
     "name": "stderr",
     "output_type": "stream",
     "text": [
      "c:\\Users\\lucvo\\AppData\\Local\\Programs\\Python\\Python311\\Lib\\site-packages\\xgboost\\sklearn.py:889: UserWarning: `eval_metric` in `fit` method is deprecated for better compatibility with scikit-learn, use `eval_metric` in constructor or`set_params` instead.\n",
      "  warnings.warn(\n",
      "c:\\Users\\lucvo\\AppData\\Local\\Programs\\Python\\Python311\\Lib\\site-packages\\xgboost\\sklearn.py:889: UserWarning: `early_stopping_rounds` in `fit` method is deprecated for better compatibility with scikit-learn, use `early_stopping_rounds` in constructor or`set_params` instead.\n",
      "  warnings.warn(\n"
     ]
    },
    {
     "name": "stdout",
     "output_type": "stream",
     "text": [
      "[0]\tvalidation_0-merror:0.14600\tvalidation_1-merror:0.18000\n",
      "[1]\tvalidation_0-merror:0.09300\tvalidation_1-merror:0.14200\n",
      "[2]\tvalidation_0-merror:0.06000\tvalidation_1-merror:0.12800\n",
      "[3]\tvalidation_0-merror:0.05400\tvalidation_1-merror:0.11600\n",
      "[4]\tvalidation_0-merror:0.04400\tvalidation_1-merror:0.12200\n",
      "[5]\tvalidation_0-merror:0.04100\tvalidation_1-merror:0.12800\n",
      "[6]\tvalidation_0-merror:0.04400\tvalidation_1-merror:0.11800\n",
      "[7]\tvalidation_0-merror:0.03800\tvalidation_1-merror:0.12000\n",
      "[8]\tvalidation_0-merror:0.03500\tvalidation_1-merror:0.11000\n",
      "[9]\tvalidation_0-merror:0.03500\tvalidation_1-merror:0.11200\n",
      "[10]\tvalidation_0-merror:0.03200\tvalidation_1-merror:0.10800\n",
      "[11]\tvalidation_0-merror:0.02400\tvalidation_1-merror:0.11000\n",
      "[12]\tvalidation_0-merror:0.02400\tvalidation_1-merror:0.10400\n",
      "[13]\tvalidation_0-merror:0.02300\tvalidation_1-merror:0.09400\n",
      "[14]\tvalidation_0-merror:0.01800\tvalidation_1-merror:0.09000\n",
      "[15]\tvalidation_0-merror:0.01400\tvalidation_1-merror:0.08800\n",
      "[16]\tvalidation_0-merror:0.01200\tvalidation_1-merror:0.08600\n",
      "[17]\tvalidation_0-merror:0.01200\tvalidation_1-merror:0.08800\n",
      "[18]\tvalidation_0-merror:0.01100\tvalidation_1-merror:0.07800\n",
      "[19]\tvalidation_0-merror:0.00900\tvalidation_1-merror:0.06800\n",
      "[20]\tvalidation_0-merror:0.00700\tvalidation_1-merror:0.07000\n",
      "[21]\tvalidation_0-merror:0.00700\tvalidation_1-merror:0.06600\n",
      "[22]\tvalidation_0-merror:0.00500\tvalidation_1-merror:0.06400\n",
      "[23]\tvalidation_0-merror:0.00400\tvalidation_1-merror:0.06000\n",
      "[24]\tvalidation_0-merror:0.00300\tvalidation_1-merror:0.05800\n",
      "[25]\tvalidation_0-merror:0.00300\tvalidation_1-merror:0.05400\n",
      "[26]\tvalidation_0-merror:0.00300\tvalidation_1-merror:0.05400\n",
      "[27]\tvalidation_0-merror:0.00300\tvalidation_1-merror:0.05200\n",
      "[28]\tvalidation_0-merror:0.00300\tvalidation_1-merror:0.05400\n",
      "[29]\tvalidation_0-merror:0.00300\tvalidation_1-merror:0.04600\n",
      "[30]\tvalidation_0-merror:0.00200\tvalidation_1-merror:0.05000\n",
      "[31]\tvalidation_0-merror:0.00200\tvalidation_1-merror:0.04600\n",
      "[32]\tvalidation_0-merror:0.00200\tvalidation_1-merror:0.04600\n",
      "[33]\tvalidation_0-merror:0.00200\tvalidation_1-merror:0.04800\n",
      "[34]\tvalidation_0-merror:0.00200\tvalidation_1-merror:0.04400\n",
      "[35]\tvalidation_0-merror:0.00200\tvalidation_1-merror:0.04400\n",
      "[36]\tvalidation_0-merror:0.00200\tvalidation_1-merror:0.04000\n",
      "[37]\tvalidation_0-merror:0.00200\tvalidation_1-merror:0.03800\n",
      "[38]\tvalidation_0-merror:0.00200\tvalidation_1-merror:0.03600\n",
      "[39]\tvalidation_0-merror:0.00200\tvalidation_1-merror:0.03400\n",
      "[40]\tvalidation_0-merror:0.00200\tvalidation_1-merror:0.03400\n",
      "[41]\tvalidation_0-merror:0.00200\tvalidation_1-merror:0.03200\n",
      "[42]\tvalidation_0-merror:0.00200\tvalidation_1-merror:0.03200\n",
      "[43]\tvalidation_0-merror:0.00200\tvalidation_1-merror:0.03200\n",
      "[44]\tvalidation_0-merror:0.00200\tvalidation_1-merror:0.03200\n",
      "[45]\tvalidation_0-merror:0.00100\tvalidation_1-merror:0.03200\n",
      "[46]\tvalidation_0-merror:0.00100\tvalidation_1-merror:0.03200\n",
      "[47]\tvalidation_0-merror:0.00000\tvalidation_1-merror:0.03200\n",
      "[48]\tvalidation_0-merror:0.00000\tvalidation_1-merror:0.03000\n",
      "[49]\tvalidation_0-merror:0.00000\tvalidation_1-merror:0.03000\n",
      "[50]\tvalidation_0-merror:0.00000\tvalidation_1-merror:0.03000\n",
      "[51]\tvalidation_0-merror:0.00000\tvalidation_1-merror:0.03000\n",
      "[52]\tvalidation_0-merror:0.00000\tvalidation_1-merror:0.03000\n",
      "[53]\tvalidation_0-merror:0.00000\tvalidation_1-merror:0.02800\n",
      "[54]\tvalidation_0-merror:0.00000\tvalidation_1-merror:0.02800\n",
      "[55]\tvalidation_0-merror:0.00000\tvalidation_1-merror:0.02800\n",
      "[56]\tvalidation_0-merror:0.00000\tvalidation_1-merror:0.02800\n",
      "[57]\tvalidation_0-merror:0.00000\tvalidation_1-merror:0.02800\n",
      "[58]\tvalidation_0-merror:0.00000\tvalidation_1-merror:0.02600\n",
      "[59]\tvalidation_0-merror:0.00000\tvalidation_1-merror:0.02600\n",
      "[60]\tvalidation_0-merror:0.00000\tvalidation_1-merror:0.02400\n",
      "[61]\tvalidation_0-merror:0.00000\tvalidation_1-merror:0.02600\n",
      "[62]\tvalidation_0-merror:0.00000\tvalidation_1-merror:0.02600\n",
      "[63]\tvalidation_0-merror:0.00000\tvalidation_1-merror:0.02600\n",
      "[64]\tvalidation_0-merror:0.00000\tvalidation_1-merror:0.02400\n",
      "[65]\tvalidation_0-merror:0.00000\tvalidation_1-merror:0.02200\n",
      "[66]\tvalidation_0-merror:0.00000\tvalidation_1-merror:0.02000\n",
      "[67]\tvalidation_0-merror:0.00000\tvalidation_1-merror:0.02200\n",
      "[68]\tvalidation_0-merror:0.00000\tvalidation_1-merror:0.02200\n",
      "[69]\tvalidation_0-merror:0.00000\tvalidation_1-merror:0.02200\n",
      "[70]\tvalidation_0-merror:0.00000\tvalidation_1-merror:0.02200\n",
      "[71]\tvalidation_0-merror:0.00000\tvalidation_1-merror:0.02200\n",
      "[72]\tvalidation_0-merror:0.00000\tvalidation_1-merror:0.02200\n",
      "[73]\tvalidation_0-merror:0.00000\tvalidation_1-merror:0.02200\n",
      "[74]\tvalidation_0-merror:0.00000\tvalidation_1-merror:0.02200\n",
      "[75]\tvalidation_0-merror:0.00000\tvalidation_1-merror:0.02200\n",
      "[76]\tvalidation_0-merror:0.00000\tvalidation_1-merror:0.02200\n",
      "Accuracy: 0.98\n"
     ]
    }
   ],
   "source": [
    "# Use an XGBoost classifier\n",
    "model = xgb.XGBClassifier(objective='multi:softmax', num_class=len(label_dict), n_estimators=100, max_depth=3, learning_rate=0.1, n_jobs=-1)\n",
    "\n",
    "# Train the model\n",
    "eval_set = [(X_train, y_train), (X_val, y_val)]\n",
    "model.fit(X_train, y_train, eval_set=eval_set, eval_metric='merror', early_stopping_rounds=10, verbose=True)\n",
    "\n",
    "# Predict the labels of the validation set\n",
    "y_pred = model.predict(X_val)\n",
    "\n",
    "# Print the accuracy\n",
    "accuracy = np.sum(y_pred == y_val) / len(y_val)\n",
    "print('Accuracy:', accuracy)"
   ]
  },
  {
   "cell_type": "code",
   "execution_count": 10,
   "metadata": {},
   "outputs": [
    {
     "data": {
      "image/png": "[encoded data removed]",
      "text/plain": [
       "<Figure size 640x480 with 1 Axes>"
      ]
     },
     "metadata": {},
     "output_type": "display_data"
    }
   ],
   "source": [
    "# Plot the training and validation error as a function of the number of trees\n",
    "results = model.evals_result()\n",
    "train_error = results['validation_0']['merror']\n",
    "val_error = results['validation_1']['merror']\n",
    "n_trees = range(len(train_error))\n",
    "plt.plot(n_trees, train_error, label='Train error')\n",
    "plt.plot(n_trees, val_error, label='Validation error')\n",
    "plt.xlabel('Number of trees')\n",
    "plt.ylabel('Classification error')\n",
    "plt.legend()\n",
    "plt.show()"
   ]
  },
  {
   "cell_type": "code",
   "execution_count": 11,
   "metadata": {},
   "outputs": [
    {
     "data": {
      "image/png": "[encoded data removed]",
      "text/plain": [
       "<Figure size 640x480 with 2 Axes>"
      ]
     },
     "metadata": {},
     "output_type": "display_data"
    }
   ],
   "source": [
    "# Plot the confusion matrix\n",
    "conf_matrix = confusion_matrix(y_val, y_pred)\n",
    "conf_normed = conf_matrix / np.sum(conf_matrix, axis=1)[:, np.newaxis]\n",
    "plt.imshow(conf_normed, cmap='Blues')\n",
    "plt.colorbar()\n",
    "plt.xlabel('Predicted')\n",
    "plt.ylabel('True')\n",
    "plt.xticks(range(len(label_dict)), label_dict.keys(), rotation=45)\n",
    "plt.yticks(range(len(label_dict)), label_dict.keys())\n",
    "plt.show()"
   ]
  },
  {
   "cell_type": "code",
   "execution_count": 13,
   "metadata": {},
   "outputs": [],
   "source": [
    "# Save the model and store in file\n",
    "import pickle\n",
    "with open('xgboost_model_new_iput.pkl', 'wb') as file:\n",
    "    pickle.dump(model, file)"
   ]
  },
  {
   "cell_type": "code",
   "execution_count": null,
   "metadata": {},
   "outputs": [],
   "source": []
  }
 ],
 "metadata": {
  "kernelspec": {
   "display_name": "Python 3",
   "language": "python",
   "name": "python3"
  },
  "language_info": {
   "codemirror_mode": {
    "name": "ipython",
    "version": 3
   },
   "file_extension": ".py",
   "mimetype": "text/x-python",
   "name": "python",
   "nbconvert_exporter": "python",
   "pygments_lexer": "ipython3",
   "version": "3.11.5"
  }
 },
 "nbformat": 4,
 "nbformat_minor": 2
}
