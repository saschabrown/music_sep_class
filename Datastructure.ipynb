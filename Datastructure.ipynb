{
 "cells": [
  {
   "cell_type": "code",
   "execution_count": 1,
   "metadata": {},
   "outputs": [],
   "source": [
    "import pandas as pd\n",
    "import numpy as np\n",
    "import wave\n",
    "from scipy.io import wavfile\n",
    "import matplotlib.pyplot as plt\n",
    "import os\n",
    "from scipy.io.wavfile import write\n",
    "from scipy import signal"
   ]
  },
  {
   "cell_type": "code",
   "execution_count": 22,
   "metadata": {},
   "outputs": [],
   "source": [
    "path = \"C:/Users/ian03/Desktop/MLproject/AudioNNRepository/audio/\"\n",
    "\n",
    "def read_wav_file(filename):\n",
    "    with wave.open(filename, 'rb') as wf:\n",
    "        params = wf.getparams()\n",
    "        num_channels, sampwidth, framerate, num_frames = params[:4]\n",
    "        frames = wf.readframes(num_frames)\n",
    "        waveform = np.frombuffer(frames, dtype=np.int16)\n",
    "    return waveform, params\n",
    "\n",
    "def read_wav_file_scipy(filename):\n",
    "    framerate, waveform = wavfile.read(filename)\n",
    "    return waveform, framerate\n",
    "\n",
    "def plot_waveform(waveform, framerate = 16000):\n",
    "    # Create a time array in seconds\n",
    "    time_array = np.arange(0, len(waveform)) / framerate\n",
    "    plt.figure(figsize=(15, 5))\n",
    "    plt.plot(time_array, waveform, label=\"Waveform\")\n",
    "    plt.xlabel('Time (s)')\n",
    "    plt.ylabel('Amplitude')\n",
    "    plt.title('Waveform')\n",
    "    plt.legend()\n",
    "    plt.show()\n",
    "\n",
    "def read_files_in_dir(directory):\n",
    "    filenames = os.listdir(directory)\n",
    "    return filenames\n",
    "\n",
    "\n",
    "def pick_5_samples(arrays):\n",
    "    instruments = []\n",
    "    for array in arrays:\n",
    "        pick = np.random.choice(array, 1)\n",
    "        instruments.append(pick)\n",
    "    return instruments\n",
    "\n",
    "def pick_samples_and_classify(arrays):\n",
    "    #Picks a random number of samples, and returns their filepath and label\n",
    "    instruments = []\n",
    "    #pick at minimum two instruments\n",
    "    number_of_instruments = np.random.randint(2, len(arrays) + 1)\n",
    "    labels = np.zeros(len(arrays))\n",
    "    already_picked = []\n",
    "\n",
    "    while len(instruments) < number_of_instruments:\n",
    "        random_pick = np.random.randint(0, len(arrays))\n",
    "        if random_pick in already_picked:\n",
    "            break\n",
    "        else:\n",
    "            already_picked.append(random_pick)\n",
    "            pick = np.random.choice(arrays[random_pick], 1)\n",
    "            instruments.append(pick)\n",
    "            labels[random_pick] = 1\n",
    "\n",
    "    return instruments, labels\n",
    "\n",
    "#read the filenames, and add their data to 5 lists\n",
    "def add_waveform_to_list(filenames):\n",
    "    waveforms = []\n",
    "    for filename in filenames:\n",
    "        waveform, params = read_wav_file_scipy(path + filename[0])\n",
    "        waveforms.append(waveform)\n",
    "    return waveforms\n",
    "        \n",
    "#Fast fourier transform\n",
    "def fft_h(data, sample_rate):\n",
    "    n = len(data)\n",
    "    fft_data = np.fft.fft(data)\n",
    "    freq = np.fft.fftfreq(n, d=1/sample_rate)\n",
    "    return freq[:n//2], np.abs(fft_data[:n//2])\n",
    "\n",
    "def find_longest_array(arrays):\n",
    "    longest = 0\n",
    "    for array in arrays:\n",
    "        if len(array) > longest:\n",
    "            longest = len(array)\n",
    "    return longest\n",
    "\n",
    "def combine_waveforms(waveforms):\n",
    "    normalization = 1 / len(waveforms)\n",
    "    # changed to be equal to the length of the longest waveform\n",
    "    out = np.zeros(find_longest_array(waveforms), dtype=np.float32)\n",
    "    for w in waveforms:\n",
    "        out += w.astype(np.float32) * normalization\n",
    "    return out # note, this retuns a float32 array - it is needed to convert this to int16 before saving it to a wav file\n",
    "\n",
    "\n",
    "def waveform_to_wavfile(waveform, name_string, sample_rate = 16000):\n",
    "    write(name_string, sample_rate, waveform.astype(np.int16))\n",
    "\n",
    "def spectrogram(waveform, sample_rate = 16000):\n",
    "    return signal.spectrogram(waveform, sample_rate)\n",
    "\n",
    "def plot_spectrogram(spectrogram):\n",
    "    plt.figure(figsize=(15, 5))\n",
    "    plt.pcolormesh(spectrogram[1], spectrogram[0], spectrogram[2], shading='gouraud')\n",
    "    plt.ylabel('Frequency [Hz]')\n",
    "    plt.xlabel('Time [sec]')\n",
    "    plt.title('Spectrogram')\n",
    "    plt.show()\n",
    "\n",
    "def gen_combo_waveform():\n",
    "    paths, label = pick_samples_and_classify([bass, guitar, flutes, keyboards])\n",
    "    waveforms = add_waveform_to_list(paths)\n",
    "    return combine_waveforms(waveforms), label\n",
    "\n",
    "def gen_sound_sequence(length_N, sample_rate = 16000):\n",
    "    #Generates a sequence of sounds within a single array.\n",
    "    sequence = []\n",
    "    label_sequence = [] #How do we modify the network to take in this sequence?\n",
    "    for i in range(length_N):\n",
    "        waveform, label = gen_combo_waveform()\n",
    "        sequence.append(waveform) \n",
    "        label_sequence.append(label)\n",
    "    return sequence\n",
    "    \n",
    "\n",
    "def gen_data_set(N):\n",
    "    data = []\n",
    "    labels = []\n",
    "    for i in range(N):\n",
    "        waveform, label = gen_combo_waveform()\n",
    "        \n",
    "        data.append(waveform)\n",
    "        labels.append(label)\n",
    "    return data, labels\n",
    "\n",
    "def gen_spectrogram_set(N):\n",
    "    data = []\n",
    "    labels = []\n",
    "    for i in range(N):\n",
    "        waveform, label = gen_combo_waveform()\n",
    "        freq, ts, spectro = spectrogram(waveform)\n",
    "        data.append(spectro)\n",
    "        labels.append(label)\n",
    "    return data, labels\n",
    "\n",
    "def gen_spectrogram_set_spectroy(N):\n",
    "    data = []\n",
    "    labels = []\n",
    "    for i in range(N):\n",
    "        paths, label = pick_samples_and_classify([bass, guitar, flutes, keyboards])\n",
    "        waveforms = add_waveform_to_list(paths)\n",
    "        freq, ts, spectro_data = spectrogram(combine_waveforms(waveforms))\n",
    "\n",
    "        inter_waveforms = []\n",
    "\n",
    "        for waveform in waveforms:\n",
    "            freq, ts, spectro = spectrogram(waveform)\n",
    "            inter_waveforms.append(spectro)\n",
    "        \n",
    "        data.append(spectro_data)\n",
    "        labels.append(inter_waveforms)\n",
    "    \n",
    "    return data, labels\n",
    "\n",
    "def gen_spectrogram_set_with_time(N):\n",
    "    data = []\n",
    "    labels = []\n",
    "    for i in range(N):\n",
    "        waveform, label = gen_combo_waveform()\n",
    "        freq, ts, spectro = spectrogram(waveform)\n",
    "        data.append((spectro, ts))\n",
    "        labels.append(label)\n",
    "    return data, labels\n",
    "#Sorting the files in directory\n",
    "\n",
    "filenames = read_files_in_dir(path)\n",
    "#pianos = [filename for filename in filenames if \"piano\" in filename] #empty\n",
    "bass = [filename for filename in filenames if \"bass\" in filename]\n",
    "guitar = [filename for filename in filenames if \"guitar\" in filename]\n",
    "#drum = [filename for filename in filenames if \"drum\" in filename] #empty\n",
    "flutes = [filename for filename in filenames if \"flute\" in filename]\n",
    "keyboards = [filename for filename in filenames if \"keyboard\" in filename]\n"
   ]
  },
  {
   "cell_type": "code",
   "execution_count": 18,
   "metadata": {},
   "outputs": [
    {
     "data": {
      "image/png": "[encoded data removed]",
      "text/plain": [
       "<Figure size 1500x500 with 1 Axes>"
      ]
     },
     "metadata": {},
     "output_type": "display_data"
    }
   ],
   "source": [
    "#Pick a random sample of each instrument\n",
    "filepaths, labels = pick_samples_and_classify([bass, guitar, flutes, keyboards])\n",
    "\n",
    "#Extract .wav data into to a list\n",
    "waveforms = add_waveform_to_list(filepaths)\n",
    "\n",
    "#Combine the waveforms\n",
    "combined_waveform = combine_waveforms(waveforms)\n",
    "\n",
    "#Save the combined waveform to a wav file\n",
    "waveform_to_wavfile(combined_waveform, \"combo.wav\", 16000)\n",
    "\n",
    "#Plot the combined waveform\n",
    "#plot_waveform(combined_waveform, 16000)\n",
    "\n",
    "#Create spectogram\n",
    "\n",
    "frequencies, times, spectrogram1 = spectrogram(combined_waveform)\n",
    "plot_spectrogram([frequencies, times, spectrogram1])"
   ]
  },
  {
   "cell_type": "code",
   "execution_count": 31,
   "metadata": {},
   "outputs": [],
   "source": [
    "#Til Simon\n",
    "a, b = gen_spectrogram_set_spectroy(2)\n",
    "#a is the combined spectrogram, b is the list of lists of spectrograms for each instrument"
   ]
  },
  {
   "cell_type": "code",
   "execution_count": 32,
   "metadata": {},
   "outputs": [
    {
     "name": "stdout",
     "output_type": "stream",
     "text": [
      "(2, 129, 285)\n",
      "(2, 2, 129, 285)\n"
     ]
    }
   ],
   "source": [
    "print(np.shape(a))\n",
    "print(np.shape(b))"
   ]
  },
  {
   "cell_type": "code",
   "execution_count": 8,
   "metadata": {},
   "outputs": [
    {
     "data": {
      "text/html": [
       "<pre style=\"white-space:pre;overflow-x:auto;line-height:normal;font-family:Menlo,'DejaVu Sans Mono',consolas,'Courier New',monospace\"><span style=\"font-weight: bold\">Model: \"sequential_3\"</span>\n",
       "</pre>\n"
      ],
      "text/plain": [
       "\u001b[1mModel: \"sequential_3\"\u001b[0m\n"
      ]
     },
     "metadata": {},
     "output_type": "display_data"
    },
    {
     "data": {
      "text/html": [
       "<pre style=\"white-space:pre;overflow-x:auto;line-height:normal;font-family:Menlo,'DejaVu Sans Mono',consolas,'Courier New',monospace\">┏━━━━━━━━━━━━━━━━━━━━━━━━━━━━━━━━━┳━━━━━━━━━━━━━━━━━━━━━━━━┳━━━━━━━━━━━━━━━┓\n",
       "┃<span style=\"font-weight: bold\"> Layer (type)                    </span>┃<span style=\"font-weight: bold\"> Output Shape           </span>┃<span style=\"font-weight: bold\">       Param # </span>┃\n",
       "┡━━━━━━━━━━━━━━━━━━━━━━━━━━━━━━━━━╇━━━━━━━━━━━━━━━━━━━━━━━━╇━━━━━━━━━━━━━━━┩\n",
       "│ conv2d_12 (<span style=\"color: #0087ff; text-decoration-color: #0087ff\">Conv2D</span>)              │ (<span style=\"color: #00d7ff; text-decoration-color: #00d7ff\">None</span>, <span style=\"color: #00af00; text-decoration-color: #00af00\">127</span>, <span style=\"color: #00af00; text-decoration-color: #00af00\">283</span>, <span style=\"color: #00af00; text-decoration-color: #00af00\">32</span>)   │           <span style=\"color: #00af00; text-decoration-color: #00af00\">320</span> │\n",
       "├─────────────────────────────────┼────────────────────────┼───────────────┤\n",
       "│ max_pooling2d_12 (<span style=\"color: #0087ff; text-decoration-color: #0087ff\">MaxPooling2D</span>) │ (<span style=\"color: #00d7ff; text-decoration-color: #00d7ff\">None</span>, <span style=\"color: #00af00; text-decoration-color: #00af00\">63</span>, <span style=\"color: #00af00; text-decoration-color: #00af00\">141</span>, <span style=\"color: #00af00; text-decoration-color: #00af00\">32</span>)    │             <span style=\"color: #00af00; text-decoration-color: #00af00\">0</span> │\n",
       "├─────────────────────────────────┼────────────────────────┼───────────────┤\n",
       "│ conv2d_13 (<span style=\"color: #0087ff; text-decoration-color: #0087ff\">Conv2D</span>)              │ (<span style=\"color: #00d7ff; text-decoration-color: #00d7ff\">None</span>, <span style=\"color: #00af00; text-decoration-color: #00af00\">61</span>, <span style=\"color: #00af00; text-decoration-color: #00af00\">139</span>, <span style=\"color: #00af00; text-decoration-color: #00af00\">128</span>)   │        <span style=\"color: #00af00; text-decoration-color: #00af00\">36,992</span> │\n",
       "├─────────────────────────────────┼────────────────────────┼───────────────┤\n",
       "│ max_pooling2d_13 (<span style=\"color: #0087ff; text-decoration-color: #0087ff\">MaxPooling2D</span>) │ (<span style=\"color: #00d7ff; text-decoration-color: #00d7ff\">None</span>, <span style=\"color: #00af00; text-decoration-color: #00af00\">30</span>, <span style=\"color: #00af00; text-decoration-color: #00af00\">69</span>, <span style=\"color: #00af00; text-decoration-color: #00af00\">128</span>)    │             <span style=\"color: #00af00; text-decoration-color: #00af00\">0</span> │\n",
       "├─────────────────────────────────┼────────────────────────┼───────────────┤\n",
       "│ conv2d_14 (<span style=\"color: #0087ff; text-decoration-color: #0087ff\">Conv2D</span>)              │ (<span style=\"color: #00d7ff; text-decoration-color: #00d7ff\">None</span>, <span style=\"color: #00af00; text-decoration-color: #00af00\">28</span>, <span style=\"color: #00af00; text-decoration-color: #00af00\">67</span>, <span style=\"color: #00af00; text-decoration-color: #00af00\">128</span>)    │       <span style=\"color: #00af00; text-decoration-color: #00af00\">147,584</span> │\n",
       "├─────────────────────────────────┼────────────────────────┼───────────────┤\n",
       "│ max_pooling2d_14 (<span style=\"color: #0087ff; text-decoration-color: #0087ff\">MaxPooling2D</span>) │ (<span style=\"color: #00d7ff; text-decoration-color: #00d7ff\">None</span>, <span style=\"color: #00af00; text-decoration-color: #00af00\">14</span>, <span style=\"color: #00af00; text-decoration-color: #00af00\">33</span>, <span style=\"color: #00af00; text-decoration-color: #00af00\">128</span>)    │             <span style=\"color: #00af00; text-decoration-color: #00af00\">0</span> │\n",
       "├─────────────────────────────────┼────────────────────────┼───────────────┤\n",
       "│ conv2d_15 (<span style=\"color: #0087ff; text-decoration-color: #0087ff\">Conv2D</span>)              │ (<span style=\"color: #00d7ff; text-decoration-color: #00d7ff\">None</span>, <span style=\"color: #00af00; text-decoration-color: #00af00\">12</span>, <span style=\"color: #00af00; text-decoration-color: #00af00\">31</span>, <span style=\"color: #00af00; text-decoration-color: #00af00\">128</span>)    │       <span style=\"color: #00af00; text-decoration-color: #00af00\">147,584</span> │\n",
       "├─────────────────────────────────┼────────────────────────┼───────────────┤\n",
       "│ max_pooling2d_15 (<span style=\"color: #0087ff; text-decoration-color: #0087ff\">MaxPooling2D</span>) │ (<span style=\"color: #00d7ff; text-decoration-color: #00d7ff\">None</span>, <span style=\"color: #00af00; text-decoration-color: #00af00\">6</span>, <span style=\"color: #00af00; text-decoration-color: #00af00\">15</span>, <span style=\"color: #00af00; text-decoration-color: #00af00\">128</span>)     │             <span style=\"color: #00af00; text-decoration-color: #00af00\">0</span> │\n",
       "├─────────────────────────────────┼────────────────────────┼───────────────┤\n",
       "│ flatten_3 (<span style=\"color: #0087ff; text-decoration-color: #0087ff\">Flatten</span>)             │ (<span style=\"color: #00d7ff; text-decoration-color: #00d7ff\">None</span>, <span style=\"color: #00af00; text-decoration-color: #00af00\">11520</span>)          │             <span style=\"color: #00af00; text-decoration-color: #00af00\">0</span> │\n",
       "├─────────────────────────────────┼────────────────────────┼───────────────┤\n",
       "│ dense_5 (<span style=\"color: #0087ff; text-decoration-color: #0087ff\">Dense</span>)                 │ (<span style=\"color: #00d7ff; text-decoration-color: #00d7ff\">None</span>, <span style=\"color: #00af00; text-decoration-color: #00af00\">1024</span>)           │    <span style=\"color: #00af00; text-decoration-color: #00af00\">11,797,504</span> │\n",
       "├─────────────────────────────────┼────────────────────────┼───────────────┤\n",
       "│ dense_6 (<span style=\"color: #0087ff; text-decoration-color: #0087ff\">Dense</span>)                 │ (<span style=\"color: #00d7ff; text-decoration-color: #00d7ff\">None</span>, <span style=\"color: #00af00; text-decoration-color: #00af00\">4</span>)              │         <span style=\"color: #00af00; text-decoration-color: #00af00\">4,100</span> │\n",
       "└─────────────────────────────────┴────────────────────────┴───────────────┘\n",
       "</pre>\n"
      ],
      "text/plain": [
       "┏━━━━━━━━━━━━━━━━━━━━━━━━━━━━━━━━━┳━━━━━━━━━━━━━━━━━━━━━━━━┳━━━━━━━━━━━━━━━┓\n",
       "┃\u001b[1m \u001b[0m\u001b[1mLayer (type)                   \u001b[0m\u001b[1m \u001b[0m┃\u001b[1m \u001b[0m\u001b[1mOutput Shape          \u001b[0m\u001b[1m \u001b[0m┃\u001b[1m \u001b[0m\u001b[1m      Param #\u001b[0m\u001b[1m \u001b[0m┃\n",
       "┡━━━━━━━━━━━━━━━━━━━━━━━━━━━━━━━━━╇━━━━━━━━━━━━━━━━━━━━━━━━╇━━━━━━━━━━━━━━━┩\n",
       "│ conv2d_12 (\u001b[38;5;33mConv2D\u001b[0m)              │ (\u001b[38;5;45mNone\u001b[0m, \u001b[38;5;34m127\u001b[0m, \u001b[38;5;34m283\u001b[0m, \u001b[38;5;34m32\u001b[0m)   │           \u001b[38;5;34m320\u001b[0m │\n",
       "├─────────────────────────────────┼────────────────────────┼───────────────┤\n",
       "│ max_pooling2d_12 (\u001b[38;5;33mMaxPooling2D\u001b[0m) │ (\u001b[38;5;45mNone\u001b[0m, \u001b[38;5;34m63\u001b[0m, \u001b[38;5;34m141\u001b[0m, \u001b[38;5;34m32\u001b[0m)    │             \u001b[38;5;34m0\u001b[0m │\n",
       "├─────────────────────────────────┼────────────────────────┼───────────────┤\n",
       "│ conv2d_13 (\u001b[38;5;33mConv2D\u001b[0m)              │ (\u001b[38;5;45mNone\u001b[0m, \u001b[38;5;34m61\u001b[0m, \u001b[38;5;34m139\u001b[0m, \u001b[38;5;34m128\u001b[0m)   │        \u001b[38;5;34m36,992\u001b[0m │\n",
       "├─────────────────────────────────┼────────────────────────┼───────────────┤\n",
       "│ max_pooling2d_13 (\u001b[38;5;33mMaxPooling2D\u001b[0m) │ (\u001b[38;5;45mNone\u001b[0m, \u001b[38;5;34m30\u001b[0m, \u001b[38;5;34m69\u001b[0m, \u001b[38;5;34m128\u001b[0m)    │             \u001b[38;5;34m0\u001b[0m │\n",
       "├─────────────────────────────────┼────────────────────────┼───────────────┤\n",
       "│ conv2d_14 (\u001b[38;5;33mConv2D\u001b[0m)              │ (\u001b[38;5;45mNone\u001b[0m, \u001b[38;5;34m28\u001b[0m, \u001b[38;5;34m67\u001b[0m, \u001b[38;5;34m128\u001b[0m)    │       \u001b[38;5;34m147,584\u001b[0m │\n",
       "├─────────────────────────────────┼────────────────────────┼───────────────┤\n",
       "│ max_pooling2d_14 (\u001b[38;5;33mMaxPooling2D\u001b[0m) │ (\u001b[38;5;45mNone\u001b[0m, \u001b[38;5;34m14\u001b[0m, \u001b[38;5;34m33\u001b[0m, \u001b[38;5;34m128\u001b[0m)    │             \u001b[38;5;34m0\u001b[0m │\n",
       "├─────────────────────────────────┼────────────────────────┼───────────────┤\n",
       "│ conv2d_15 (\u001b[38;5;33mConv2D\u001b[0m)              │ (\u001b[38;5;45mNone\u001b[0m, \u001b[38;5;34m12\u001b[0m, \u001b[38;5;34m31\u001b[0m, \u001b[38;5;34m128\u001b[0m)    │       \u001b[38;5;34m147,584\u001b[0m │\n",
       "├─────────────────────────────────┼────────────────────────┼───────────────┤\n",
       "│ max_pooling2d_15 (\u001b[38;5;33mMaxPooling2D\u001b[0m) │ (\u001b[38;5;45mNone\u001b[0m, \u001b[38;5;34m6\u001b[0m, \u001b[38;5;34m15\u001b[0m, \u001b[38;5;34m128\u001b[0m)     │             \u001b[38;5;34m0\u001b[0m │\n",
       "├─────────────────────────────────┼────────────────────────┼───────────────┤\n",
       "│ flatten_3 (\u001b[38;5;33mFlatten\u001b[0m)             │ (\u001b[38;5;45mNone\u001b[0m, \u001b[38;5;34m11520\u001b[0m)          │             \u001b[38;5;34m0\u001b[0m │\n",
       "├─────────────────────────────────┼────────────────────────┼───────────────┤\n",
       "│ dense_5 (\u001b[38;5;33mDense\u001b[0m)                 │ (\u001b[38;5;45mNone\u001b[0m, \u001b[38;5;34m1024\u001b[0m)           │    \u001b[38;5;34m11,797,504\u001b[0m │\n",
       "├─────────────────────────────────┼────────────────────────┼───────────────┤\n",
       "│ dense_6 (\u001b[38;5;33mDense\u001b[0m)                 │ (\u001b[38;5;45mNone\u001b[0m, \u001b[38;5;34m4\u001b[0m)              │         \u001b[38;5;34m4,100\u001b[0m │\n",
       "└─────────────────────────────────┴────────────────────────┴───────────────┘\n"
      ]
     },
     "metadata": {},
     "output_type": "display_data"
    },
    {
     "data": {
      "text/html": [
       "<pre style=\"white-space:pre;overflow-x:auto;line-height:normal;font-family:Menlo,'DejaVu Sans Mono',consolas,'Courier New',monospace\"><span style=\"font-weight: bold\"> Total params: </span><span style=\"color: #00af00; text-decoration-color: #00af00\">12,134,084</span> (46.29 MB)\n",
       "</pre>\n"
      ],
      "text/plain": [
       "\u001b[1m Total params: \u001b[0m\u001b[38;5;34m12,134,084\u001b[0m (46.29 MB)\n"
      ]
     },
     "metadata": {},
     "output_type": "display_data"
    },
    {
     "data": {
      "text/html": [
       "<pre style=\"white-space:pre;overflow-x:auto;line-height:normal;font-family:Menlo,'DejaVu Sans Mono',consolas,'Courier New',monospace\"><span style=\"font-weight: bold\"> Trainable params: </span><span style=\"color: #00af00; text-decoration-color: #00af00\">12,134,084</span> (46.29 MB)\n",
       "</pre>\n"
      ],
      "text/plain": [
       "\u001b[1m Trainable params: \u001b[0m\u001b[38;5;34m12,134,084\u001b[0m (46.29 MB)\n"
      ]
     },
     "metadata": {},
     "output_type": "display_data"
    },
    {
     "data": {
      "text/html": [
       "<pre style=\"white-space:pre;overflow-x:auto;line-height:normal;font-family:Menlo,'DejaVu Sans Mono',consolas,'Courier New',monospace\"><span style=\"font-weight: bold\"> Non-trainable params: </span><span style=\"color: #00af00; text-decoration-color: #00af00\">0</span> (0.00 B)\n",
       "</pre>\n"
      ],
      "text/plain": [
       "\u001b[1m Non-trainable params: \u001b[0m\u001b[38;5;34m0\u001b[0m (0.00 B)\n"
      ]
     },
     "metadata": {},
     "output_type": "display_data"
    }
   ],
   "source": [
    "from keras.models import Sequential\n",
    "from keras.layers import Conv2D, MaxPooling2D\n",
    "from keras.layers import Flatten, Dense\n",
    "from keras.layers import Input\n",
    "\n",
    "def build_model():\n",
    "    model = Sequential()\n",
    "    model.add(Input(shape=(129, 285, 1)))\n",
    "    model.add(Conv2D(32, (3, 3), activation='relu'))\n",
    "    model.add(MaxPooling2D(2, 2))\n",
    "    model.add(Conv2D(128, (3, 3), activation='relu'))\n",
    "    model.add(MaxPooling2D(2, 2))\n",
    "    model.add(Conv2D(128, (3, 3), activation='relu'))\n",
    "    model.add(MaxPooling2D(2, 2))\n",
    "    model.add(Conv2D(128, (3, 3), activation='relu'))\n",
    "    model.add(MaxPooling2D(2, 2))\n",
    "    model.add(Flatten())\n",
    "    model.add(Dense(1024, activation='relu'))\n",
    "    model.add(Dense(4, activation='sigmoid'))  # Changed from 'softmax' to 'sigmoid'\n",
    "    model.compile(optimizer='adam', loss='binary_crossentropy', metrics=['accuracy'])  # Changed from 'categorical_crossentropy' to 'binary_crossentropy'\n",
    "    return model\n",
    "\n",
    "model = build_model()\n",
    "\n",
    "# Call the model on some dummy data to explicitly build it\n",
    "dummy_data = np.zeros((1, 129, 285, 1))\n",
    "model(dummy_data)\n",
    "\n",
    "model.summary()"
   ]
  },
  {
   "cell_type": "code",
   "execution_count": 20,
   "metadata": {},
   "outputs": [
    {
     "name": "stdout",
     "output_type": "stream",
     "text": [
      "(800, 129, 285, 1)\n",
      "(800, 4)\n",
      "(200, 129, 285, 1)\n",
      "(200, 4)\n"
     ]
    }
   ],
   "source": [
    "from sklearn.model_selection import train_test_split\n",
    "from keras.utils import to_categorical\n",
    "\n",
    "#Generate data set and labels\n",
    "data1, labels = gen_spectrogram_set(1000)\n",
    "\n",
    "X_train, X_test, y_train, y_test = train_test_split(data1, np.array(labels), test_size=0.2, random_state=42)\n",
    "X_train = np.expand_dims(X_train, axis=-1)\n",
    "X_test = np.expand_dims(X_test, axis=-1)\n",
    "#hist = model.fit(X_train, y_train, epochs=10, batch_size=32, validation_split=0.2)\n",
    "print(np.shape(X_train))\n",
    "print(np.shape(y_train))\n",
    "print(np.shape(X_test))\n",
    "print(np.shape(y_test))"
   ]
  },
  {
   "cell_type": "code",
   "execution_count": 22,
   "metadata": {},
   "outputs": [
    {
     "name": "stdout",
     "output_type": "stream",
     "text": [
      "\u001b[1m25/25\u001b[0m \u001b[32m━━━━━━━━━━━━━━━━━━━━\u001b[0m\u001b[37m\u001b[0m \u001b[1m33s\u001b[0m 1s/step - accuracy: 0.2201 - loss: 53.5812 - val_accuracy: 0.3450 - val_loss: 0.9229\n"
     ]
    }
   ],
   "source": [
    "# Train the model\n",
    "history = model.fit(X_train, y_train, epochs=1, batch_size=32, validation_data=(X_test, y_test))"
   ]
  },
  {
   "cell_type": "code",
   "execution_count": 90,
   "metadata": {},
   "outputs": [
    {
     "name": "stdout",
     "output_type": "stream",
     "text": [
      "\u001b[1m63/63\u001b[0m \u001b[32m━━━━━━━━━━━━━━━━━━━━\u001b[0m\u001b[37m\u001b[0m \u001b[1m14s\u001b[0m 221ms/step\n"
     ]
    }
   ],
   "source": [
    "y_preds = model.predict(X_test)"
   ]
  },
  {
   "cell_type": "code",
   "execution_count": 91,
   "metadata": {},
   "outputs": [
    {
     "name": "stdout",
     "output_type": "stream",
     "text": [
      "[[0.6449387  0.5044297  0.9055386  0.631343  ]\n",
      " [0.4264087  0.4502457  0.88201636 0.34096295]\n",
      " [0.57229424 0.47881287 0.1500092  0.6240715 ]\n",
      " [0.7155082  0.47035053 0.5352051  0.5082462 ]\n",
      " [0.54537535 0.5879667  0.02912341 0.8352022 ]\n",
      " [0.39112553 0.52696395 0.98703015 0.29200584]\n",
      " [0.41269058 0.3778833  0.9824173  0.47495985]\n",
      " [0.64975774 0.5268553  0.00557467 0.7998104 ]\n",
      " [0.46310666 0.7712319  0.2423528  0.5702505 ]\n",
      " [0.56858945 0.49357632 0.11464716 0.6460215 ]]\n"
     ]
    }
   ],
   "source": [
    "print(y_preds[:10])"
   ]
  },
  {
   "cell_type": "code",
   "execution_count": 92,
   "metadata": {},
   "outputs": [
    {
     "data": {
      "text/plain": [
       "array([[1., 0., 1., 1.],\n",
       "       [0., 0., 1., 0.],\n",
       "       [0., 1., 0., 0.],\n",
       "       [1., 0., 1., 0.],\n",
       "       [0., 0., 0., 1.],\n",
       "       [0., 0., 1., 1.],\n",
       "       [0., 1., 1., 0.],\n",
       "       [1., 0., 0., 1.],\n",
       "       [0., 1., 0., 0.],\n",
       "       [0., 0., 1., 1.]])"
      ]
     },
     "execution_count": 92,
     "metadata": {},
     "output_type": "execute_result"
    }
   ],
   "source": [
    "y_test[:10]"
   ]
  },
  {
   "cell_type": "code",
   "execution_count": null,
   "metadata": {},
   "outputs": [],
   "source": []
  }
 ],
 "metadata": {
  "kernelspec": {
   "display_name": "Python 3",
   "language": "python",
   "name": "python3"
  },
  "language_info": {
   "codemirror_mode": {
    "name": "ipython",
    "version": 3
   },
   "file_extension": ".py",
   "mimetype": "text/x-python",
   "name": "python",
   "nbconvert_exporter": "python",
   "pygments_lexer": "ipython3",
   "version": "3.12.3"
  }
 },
 "nbformat": 4,
 "nbformat_minor": 2
}
